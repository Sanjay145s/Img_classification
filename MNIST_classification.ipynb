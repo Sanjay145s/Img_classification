{
 "cells": [
  {
   "cell_type": "code",
   "execution_count": 13,
   "metadata": {},
   "outputs": [],
   "source": [
    "import torch \n",
    "import torchvision.datasets as dataset\n",
    "import torchvision.transforms as Transform\n",
    "import torch.nn as nn\n",
    "from torch.utils.data import DataLoader\n",
    "from torch.optim import Adam\n",
    "from torch_snippets import show\n",
    "\n",
    "import matplotlib.pyplot as plt\n",
    "import numpy as np\n",
    "import torchvision\n",
    "import torch.nn.functional as F"
   ]
  },
  {
   "cell_type": "code",
   "execution_count": 20,
   "metadata": {},
   "outputs": [],
   "source": [
    "transforms= Transform.Compose([Transform.ToTensor(), Transform.Normalize(0.5,0.5)])\n",
    "\n",
    "trainset= dataset.MNIST(root='./data', train=True, transform=transforms, download=True)\n",
    "\n",
    "testset= dataset.MNIST(root= './data', train= False, transform=transforms, download=True)\n",
    "\n",
    "dataloader= DataLoader(dataset=trainset, batch_size=8, shuffle=True )\n",
    "testloader= DataLoader(dataset=testset, batch_size=8, shuffle=True )"
   ]
  },
  {
   "cell_type": "code",
   "execution_count": 15,
   "metadata": {},
   "outputs": [
    {
     "name": "stdout",
     "output_type": "stream",
     "text": [
      "torch.Size([28, 28])\n",
      "tensor(4)\n"
     ]
    },
    {
     "data": {
      "image/png": "[encoded data removed]",
      "text/plain": [
       "<Figure size 640x480 with 1 Axes>"
      ]
     },
     "metadata": {},
     "output_type": "display_data"
    }
   ],
   "source": [
    "image,labels= next(iter(dataloader))\n",
    "images=image[0]\n",
    "print(images.squeeze().shape)\n",
    "\n",
    "unnormaliZe=images*0.5+0.5\n",
    "\n",
    "plt.imshow(unnormaliZe.squeeze().numpy(), cmap=\"gray\")\n",
    "print(labels[0])"
   ]
  },
  {
   "cell_type": "code",
   "execution_count": 16,
   "metadata": {},
   "outputs": [],
   "source": [
    "class Network(nn.Module):\n",
    "    def __init__(self):\n",
    "        super().__init__()\n",
    "        self.conv1= nn.Conv2d(1,16,3,padding=1)\n",
    "        self.conv2= nn.Conv2d(16,32,3,padding=1)\n",
    "        self.fc1= nn.Linear(32*28*28,64)\n",
    "        self.fc2= nn.Linear(64,32)\n",
    "        self.fc3= nn.Linear(32,10)\n",
    "\n",
    "    def forward(self,x):\n",
    "        x=F.relu(self.conv1(x))\n",
    "        x=F.relu(self.conv2(x))\n",
    "        x=torch.flatten(x,start_dim=1)\n",
    "        x=F.relu(self.fc1(x))\n",
    "        x=F.relu(self.fc2(x))\n",
    "        x=self.fc3(x)\n",
    "        return x\n",
    "\n",
    "    \n",
    "NNetwork=Network()"
   ]
  },
  {
   "cell_type": "code",
   "execution_count": 17,
   "metadata": {},
   "outputs": [],
   "source": [
    "device = torch.device(\"cuda\" if torch.cuda.is_available() else \"cpu\")\n",
    "classifier = Network().to(device)\n",
    "loss_fn= nn.CrossEntropyLoss()\n",
    "optimizers= Adam(NNetwork.parameters(), lr=0.001)\n",
    "epochs=50\n"
   ]
  },
  {
   "cell_type": "code",
   "execution_count": 6,
   "metadata": {},
   "outputs": [
    {
     "name": "stdout",
     "output_type": "stream",
     "text": [
      "Epoch [1/50], Loss: 0.1345\n",
      "Epoch [2/50], Loss: 0.0499\n",
      "Epoch [3/50], Loss: 0.0302\n",
      "Epoch [4/50], Loss: 0.0221\n",
      "Epoch [5/50], Loss: 0.0142\n",
      "Epoch [6/50], Loss: 0.0129\n",
      "Epoch [7/50], Loss: 0.0101\n",
      "Epoch [8/50], Loss: 0.0093\n",
      "Epoch [9/50], Loss: 0.0096\n",
      "Epoch [10/50], Loss: 0.0086\n",
      "Epoch [11/50], Loss: 0.0080\n",
      "Epoch [12/50], Loss: 0.0068\n",
      "Epoch [13/50], Loss: 0.0068\n",
      "Epoch [14/50], Loss: 0.0073\n",
      "Epoch [15/50], Loss: 0.0062\n",
      "Epoch [16/50], Loss: 0.0078\n",
      "Epoch [17/50], Loss: 0.0066\n",
      "Epoch [18/50], Loss: 0.0062\n",
      "Epoch [19/50], Loss: 0.0051\n",
      "Epoch [20/50], Loss: 0.0089\n",
      "Epoch [21/50], Loss: 0.0079\n",
      "Epoch [22/50], Loss: 0.0064\n",
      "Epoch [23/50], Loss: 0.0054\n",
      "Epoch [24/50], Loss: 0.0075\n",
      "Epoch [25/50], Loss: 0.0100\n",
      "Epoch [26/50], Loss: 0.0058\n",
      "Epoch [27/50], Loss: 0.0059\n",
      "Epoch [28/50], Loss: 0.0086\n",
      "Epoch [29/50], Loss: 0.0048\n",
      "Epoch [30/50], Loss: 0.0070\n",
      "Epoch [31/50], Loss: 0.0079\n",
      "Epoch [32/50], Loss: 0.0071\n",
      "Epoch [33/50], Loss: 0.0054\n",
      "Epoch [34/50], Loss: 0.0076\n",
      "Epoch [35/50], Loss: 0.0100\n",
      "Epoch [36/50], Loss: 0.0073\n",
      "Epoch [37/50], Loss: 0.0087\n",
      "Epoch [38/50], Loss: 0.0083\n",
      "Epoch [39/50], Loss: 0.0073\n",
      "Epoch [40/50], Loss: 0.0056\n",
      "Epoch [41/50], Loss: 0.0066\n",
      "Epoch [42/50], Loss: 0.0084\n",
      "Epoch [43/50], Loss: 0.0057\n",
      "Epoch [44/50], Loss: 0.0126\n",
      "Epoch [45/50], Loss: 0.0057\n",
      "Epoch [46/50], Loss: 0.0090\n",
      "Epoch [47/50], Loss: 0.0071\n",
      "Epoch [48/50], Loss: 0.0067\n",
      "Epoch [49/50], Loss: 0.0047\n",
      "Epoch [50/50], Loss: 0.0069\n"
     ]
    }
   ],
   "source": [
    "for epoch in range(epochs):\n",
    "    track_loss=0.0\n",
    "    for i , data in enumerate(dataloader,0):\n",
    "        images, labels= data\n",
    "        \n",
    "\n",
    "        optimizers.zero_grad() #setting the gradiemts to zero\n",
    "        outputs= NNetwork(images) #forward pass \n",
    "\n",
    "        loss= loss_fn(outputs,labels)  # setting the loss\n",
    "        loss.backward() # computing the loss function\n",
    "        optimizers.step() #updating the weights\n",
    "\n",
    "        track_loss += loss.item()\n",
    "\n",
    "    avg_loss= track_loss/len(dataloader)\n",
    "\n",
    "    print(f\"Epoch [{epoch+1}/{epochs}], Loss: {avg_loss:.4f}\")\n",
    "\n"
   ]
  },
  {
   "cell_type": "code",
   "execution_count": null,
   "metadata": {},
   "outputs": [],
   "source": [
    "PATH = '/MNIST_model_01.pth'\n",
    "torch.save(NNetwork.state_dict(), PATH)"
   ]
  },
  {
   "cell_type": "markdown",
   "metadata": {},
   "source": [
    "### Test Inference for MNIST"
   ]
  },
  {
   "cell_type": "code",
   "execution_count": 65,
   "metadata": {},
   "outputs": [
    {
     "name": "stdout",
     "output_type": "stream",
     "text": [
      "torch.Size([1, 1, 28, 28])\n",
      "torch.Size([28, 28])\n",
      "tensor(3)\n"
     ]
    },
    {
     "data": {
      "image/png": "[encoded data removed]",
      "text/plain": [
       "<Figure size 640x480 with 1 Axes>"
      ]
     },
     "metadata": {},
     "output_type": "display_data"
    }
   ],
   "source": [
    "image,labels= next(iter(testloader))\n",
    "images1=image[0].unsqueeze(0)\n",
    "\n",
    "print(images1.shape)\n",
    "print(images1.squeeze().shape)\n",
    "\n",
    "unnormaliZe=images1*0.5+0.5\n",
    "\n",
    "plt.imshow(unnormaliZe.squeeze().numpy(), cmap=\"gray\")\n",
    "print(labels[0])"
   ]
  },
  {
   "cell_type": "code",
   "execution_count": 66,
   "metadata": {},
   "outputs": [
    {
     "data": {
      "text/plain": [
       "Network(\n",
       "  (conv1): Conv2d(1, 16, kernel_size=(3, 3), stride=(1, 1), padding=(1, 1))\n",
       "  (conv2): Conv2d(16, 32, kernel_size=(3, 3), stride=(1, 1), padding=(1, 1))\n",
       "  (fc1): Linear(in_features=25088, out_features=64, bias=True)\n",
       "  (fc2): Linear(in_features=64, out_features=32, bias=True)\n",
       "  (fc3): Linear(in_features=32, out_features=10, bias=True)\n",
       ")"
      ]
     },
     "execution_count": 66,
     "metadata": {},
     "output_type": "execute_result"
    }
   ],
   "source": [
    "path=\"MNIST_model_01.pth\"\n",
    "model=Network()\n",
    "model.load_state_dict(torch.load(path, weights_only=True))\n",
    "model.eval()"
   ]
  },
  {
   "cell_type": "code",
   "execution_count": 69,
   "metadata": {},
   "outputs": [
    {
     "name": "stdout",
     "output_type": "stream",
     "text": [
      "torch.Size([1, 10])\n",
      "Predicted Digit: 3\n"
     ]
    }
   ],
   "source": [
    "with torch.no_grad():\n",
    "    output = model(images1)\n",
    "    print(output.shape)\n",
    "    predicted_digit = torch.argmax(output, dim=1).item()\n",
    "\n",
    "print(f\"Predicted Digit: {predicted_digit}\")"
   ]
  },
  {
   "cell_type": "code",
   "execution_count": null,
   "metadata": {},
   "outputs": [],
   "source": []
  },
  {
   "cell_type": "code",
   "execution_count": null,
   "metadata": {},
   "outputs": [],
   "source": []
  }
 ],
 "metadata": {
  "kernelspec": {
   "display_name": "torchc",
   "language": "python",
   "name": "python3"
  },
  "language_info": {
   "codemirror_mode": {
    "name": "ipython",
    "version": 3
   },
   "file_extension": ".py",
   "mimetype": "text/x-python",
   "name": "python",
   "nbconvert_exporter": "python",
   "pygments_lexer": "ipython3",
   "version": "3.12.2"
  }
 },
 "nbformat": 4,
 "nbformat_minor": 2
}
